{
  "cells": [
    {
      "cell_type": "code",
      "execution_count": 1,
      "metadata": {
        "colab": {
          "base_uri": "https://localhost:8080/"
        },
        "id": "ku4ApjnXXlg6",
        "outputId": "e8f108f2-ea5b-4954-faf8-bb8d0fd3c1bb"
      },
      "outputs": [
        {
          "output_type": "stream",
          "name": "stdout",
          "text": [
            "✅ Loaded dataset with shape: (2260701, 151)\n",
            "🎯 Target variable distribution:\n",
            "target\n",
            "0    0.800193\n",
            "1    0.199807\n",
            "Name: proportion, dtype: float64\n"
          ]
        }
      ],
      "source": [
        "# ==========================================\n",
        "# 🧭 TASK 1: EDA + PREPROCESSING (DIRECT CSV)\n",
        "# ==========================================\n",
        "import pandas as pd\n",
        "import numpy as np\n",
        "from sklearn.impute import SimpleImputer\n",
        "from sklearn.preprocessing import OneHotEncoder, StandardScaler\n",
        "from sklearn.compose import ColumnTransformer\n",
        "from sklearn.pipeline import Pipeline\n",
        "import joblib\n",
        "\n",
        "# 1️⃣ Load CSV file (no compression)\n",
        "csv_path = '/content/drive/MyDrive/accepted_2007_to_2018Q4.csv'   # 👈 change path as needed\n",
        "df = pd.read_csv(csv_path, low_memory=False)\n",
        "\n",
        "print(f\"✅ Loaded dataset with shape: {df.shape}\")\n",
        "\n",
        "# Optional: sample for faster testing\n",
        "SAMPLE_FRAC = 2  # 5% sample for Colab testing (set to None for full)\n",
        "RANDOM_STATE = 42\n",
        "if 0 < SAMPLE_FRAC < 1:\n",
        "    df = df.sample(frac=SAMPLE_FRAC, random_state=RANDOM_STATE).reset_index(drop=True)\n",
        "    print(f\"📉 Using sample of {len(df):,} rows\")\n",
        "\n",
        "# 2️⃣ Basic cleaning\n",
        "if 'term' in df.columns:\n",
        "    df['term'] = df['term'].astype(str).str.extract(r'(\\d+)').astype(float)\n",
        "\n",
        "if 'int_rate' in df.columns:\n",
        "    df['int_rate'] = (\n",
        "        df['int_rate'].astype(str).str.replace('%', '').replace('nan', '', regex=False)\n",
        "    )\n",
        "    df.loc[df['int_rate'] == '', 'int_rate'] = np.nan\n",
        "    df['int_rate'] = pd.to_numeric(df['int_rate'], errors='coerce')\n",
        "\n",
        "if 'emp_length' in df.columns:\n",
        "    df['emp_length'] = (\n",
        "        df['emp_length'].astype(str)\n",
        "        .replace(['n/a', 'nan', 'None'], '0', regex=False)\n",
        "        .str.replace(r'\\+', '', regex=True)\n",
        "        .str.replace(r'([<> ]+years?)', '', regex=True)\n",
        "        .str.replace('year', '', regex=False)\n",
        "        .str.strip()\n",
        "    )\n",
        "    df['emp_length'] = pd.to_numeric(df['emp_length'], errors='coerce').fillna(0)\n",
        "\n",
        "if 'fico_range_low' in df.columns and 'fico_range_high' in df.columns:\n",
        "    df['fico_mean'] = df[['fico_range_low', 'fico_range_high']].mean(axis=1)\n",
        "\n",
        "if 'revol_util' in df.columns:\n",
        "    df['revol_util'] = (\n",
        "        df['revol_util'].astype(str).str.replace('%', '').replace('nan', '', regex=False)\n",
        "    )\n",
        "    df.loc[df['revol_util'] == '', 'revol_util'] = np.nan\n",
        "    df['revol_util'] = pd.to_numeric(df['revol_util'], errors='coerce')\n",
        "\n",
        "# 3️⃣ Define target\n",
        "def map_status(s):\n",
        "    s = str(s).lower()\n",
        "    if 'fully paid' in s:\n",
        "        return 0\n",
        "    if 'charged off' in s or 'default' in s:\n",
        "        return 1\n",
        "    return np.nan\n",
        "\n",
        "df['target'] = df['loan_status'].apply(map_status)\n",
        "df = df.dropna(subset=['target']).reset_index(drop=True)\n",
        "df['target'] = df['target'].astype(int)\n",
        "print(\"🎯 Target variable distribution:\")\n",
        "print(df['target'].value_counts(normalize=True))\n",
        "\n",
        "# 4️⃣ Select key features\n",
        "features = [\n",
        "    'loan_amnt', 'term', 'int_rate', 'installment',\n",
        "    'grade', 'sub_grade', 'emp_length', 'home_ownership',\n",
        "    'annual_inc', 'verification_status', 'purpose',\n",
        "    'dti', 'delinq_2yrs', 'fico_mean', 'inq_last_6mths',\n",
        "    'open_acc', 'pub_rec', 'revol_bal', 'revol_util', 'total_acc'\n",
        "]\n",
        "use_feats = [c for c in features if c in df.columns]\n",
        "data = df[use_feats + ['target']].copy()\n",
        "\n",
        "# 5️⃣ Identify numeric & categorical features\n",
        "num_cols = data.select_dtypes(include=[np.number]).columns.tolist()\n",
        "cat_cols = [c for c in use_feats if c not in num_cols]\n",
        "\n",
        "numeric_features = [c for c in num_cols if c != 'target']\n",
        "categorical_features = cat_cols\n",
        "\n",
        "# 6️⃣ Build preprocessing pipelines\n",
        "numeric_transformer = Pipeline([\n",
        "    ('imputer', SimpleImputer(strategy='median')),\n",
        "    ('scaler', StandardScaler())\n",
        "])\n",
        "\n",
        "categorical_transformer = Pipeline([\n",
        "    ('imputer', SimpleImputer(strategy='most_frequent')),\n",
        "    ('ohe', OneHotEncoder(handle_unknown='ignore', sparse_output=False))\n",
        "])\n",
        "\n",
        "preprocessor = ColumnTransformer([\n",
        "    ('num', numeric_transformer, numeric_features),\n",
        "    ('cat', categorical_transformer, categorical_features)\n",
        "])\n",
        "\n",
        "# 7️⃣ Fit & transform\n",
        "X = preprocessor.fit_transform(data.drop(columns=['target']))\n",
        "y = data['target'].values\n",
        "\n",
        "# 8️⃣ Recreate column names\n",
        "ohe = preprocessor.named_transformers_['cat'].named_steps['ohe']\n",
        "cat_feature_names = ohe.get_feature_names_out(categorical_features)\n",
        "num_feature_names = numeric_features\n",
        "processed_columns = np.concatenate([num_feature_names, cat_feature_names])\n",
        "\n",
        "processed_df = pd.DataFrame(X, columns=processed_columns)\n",
        "processed_df['target'] = y\n"
      ]
    },
    {
      "cell_type": "code",
      "execution_count": 2,
      "metadata": {
        "colab": {
          "base_uri": "https://localhost:8080/"
        },
        "id": "6iI8cPfpZQUI",
        "outputId": "239f778a-f2c6-48aa-d811-5622f95cc8c3"
      },
      "outputs": [
        {
          "output_type": "stream",
          "name": "stdout",
          "text": [
            "💾 Saved processed dataset to /content/drive/MyDrive/loan_data_processed.csv\n",
            "✅ Final processed shape: (1348099, 81)\n",
            "🧠 Preprocessor saved for later modeling.\n"
          ]
        }
      ],
      "source": [
        "\n",
        "# 9️⃣ Save clean dataset\n",
        "output_path = \"/content/drive/MyDrive/loan_data_processed.csv\"\n",
        "processed_df.to_csv(output_path, index=False)\n",
        "print(f\"💾 Saved processed dataset to {output_path}\")\n",
        "print(\"✅ Final processed shape:\", processed_df.shape)\n",
        "\n",
        "# 🔟 (Optional) Save preprocessor for reuse in modeling\n",
        "joblib.dump(preprocessor, \"/content/drive/MyDrive/loan_preprocessor.pkl\")\n",
        "print(\"🧠 Preprocessor saved for later modeling.\")"
      ]
    },
    {
      "cell_type": "code",
      "execution_count": 3,
      "metadata": {
        "colab": {
          "base_uri": "https://localhost:8080/"
        },
        "id": "qhtgmMsvZ9gp",
        "outputId": "9556a289-bd82-4f82-a195-eab4029f581f"
      },
      "outputs": [
        {
          "output_type": "stream",
          "name": "stdout",
          "text": [
            "✅ Preview shape: (1348099, 81)\n",
            "\n",
            "🎯 Target distribution:\n",
            "target\n",
            "0    0.800193\n",
            "1    0.199807\n",
            "Name: proportion, dtype: float64\n",
            "\n",
            "🚫 Missing values (top 5):\n",
            "loan_amnt      0.0\n",
            "term           0.0\n",
            "int_rate       0.0\n",
            "installment    0.0\n",
            "emp_length     0.0\n",
            "dtype: float64\n",
            "\n",
            "📊 Basic stats:\n",
            "                    count          mean  std       min       25%       50%  \\\n",
            "loan_amnt       1348099.0  3.923510e-17  1.0 -1.595776 -0.738171 -0.276384   \n",
            "term            1348099.0  2.201467e-16  1.0 -0.563493 -0.563493 -0.563493   \n",
            "int_rate        1348099.0 -4.467025e-16  1.0 -1.664307 -0.732647 -0.105245   \n",
            "installment     1348099.0  4.404725e-16  1.0 -1.655268 -0.724665 -0.239918   \n",
            "emp_length      1348099.0  4.790672e-17  1.0 -1.460159 -0.940035  0.100212   \n",
            "annual_inc      1348099.0  4.002149e-16  1.0 -1.090315 -0.436021 -0.160716   \n",
            "dti             1348099.0 -7.585172e-16  1.0 -1.728004 -0.581325 -0.059537   \n",
            "delinq_2yrs     1348099.0 -2.023949e-18  1.0 -0.361869 -0.361869 -0.361869   \n",
            "fico_mean       1348099.0 -1.047035e-15  1.0 -2.705160 -0.821394 -0.193472   \n",
            "inq_last_6mths  1348099.0 -4.036303e-17  1.0 -0.689734 -0.689734 -0.689734   \n",
            "\n",
            "                     75%         max  \n",
            "loan_amnt       0.641454    2.936049  \n",
            "term           -0.563493    1.774644  \n",
            "int_rate        0.576714    3.724217  \n",
            "installment     0.544718    4.902740  \n",
            "emp_length      1.140459    1.140459  \n",
            "annual_inc      0.196822  156.215014  \n",
            "dti             0.517837   87.926346  \n",
            "delinq_2yrs    -0.361869   44.070638  \n",
            "fico_mean       0.434450    4.688620  \n",
            "inq_last_6mths  0.351862   33.682937  \n"
          ]
        }
      ],
      "source": [
        "import pandas as pd\n",
        "\n",
        "path = \"/content/drive/MyDrive/loan_data_processed.csv\"\n",
        "df = pd.read_csv(path, nrows=1348099)  # sample to inspect\n",
        "print(\"✅ Preview shape:\", df.shape)\n",
        "\n",
        "print(\"\\n🎯 Target distribution:\")\n",
        "print(df['target'].value_counts(normalize=True).rename('proportion'))\n",
        "\n",
        "print(\"\\n🚫 Missing values (top 5):\")\n",
        "print(df.isna().mean().sort_values(ascending=False).head())\n",
        "\n",
        "print(\"\\n📊 Basic stats:\")\n",
        "print(df.describe().T.head(10))\n"
      ]
    }
  ],
  "metadata": {
    "colab": {
      "provenance": []
    },
    "kernelspec": {
      "display_name": "Python 3",
      "name": "python3"
    },
    "language_info": {
      "name": "python"
    }
  },
  "nbformat": 4,
  "nbformat_minor": 0
}